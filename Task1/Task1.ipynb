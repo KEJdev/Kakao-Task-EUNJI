{
 "cells": [
  {
   "cell_type": "markdown",
   "metadata": {},
   "source": [
    "'더치페이 요청에 대한 응답률이 높을수록 더치페이 서비스를 더 많이 사용한다' 라는 가설을 통계적으로 검정해주세요.  \n",
    "- 해당 가설 검정 방법을 선택한 이유와 전체 검정 과정을 기술해주세요"
   ]
  },
  {
   "cell_type": "markdown",
   "metadata": {},
   "source": [
    "### 결과   \n",
    "\n",
    "- 더치페이 요청 상세 데이터에서 전체 status의 비율을 확인했을때, CLAIM 비율이 45%, SEND 27%, CHECK 26%임을 알 수 있습니다. 이것은 전체 유저 100% 중에서 27%가 SEND를 했고, 남은 73%가 확인 중이거나 보내지 않았음을 의미합니다.\n",
    "\n",
    "\n",
    "- 더치페이 데이터에서 더치페이 요청을 가장 많이 한 유저를 기준으로 최대 122번 더치페이 서비스를 사용하였는데, 이 유저를 기준으로 status의 비율은 SEND 56%를 차지합니다. 반대로 SEND 비율이 높은 유저이지만, 더치페이 서비스를 이용안하는 유저가 존재합니다. 이뜻은 더치페이 요청에 대한 응답률과는 상관이 없음을 알 수 있습니다.  \n",
    "\n",
    "\n",
    "- 더치페이 서비스는 나이대가 20 ~ 40대인 유저들이 많이 사용하며 응답률이 높습니다.\n"
   ]
  },
  {
   "cell_type": "code",
   "execution_count": 635,
   "metadata": {},
   "outputs": [],
   "source": [
    "import pandas as pd\n",
    "import numpy as np\n",
    "import os\n",
    "import glob\n",
    "import matplotlib.pyplot as plt\n",
    "# import plotly.express as px\n",
    "\n",
    "_, dutchpay, dutchpay_detail, user = [pd.read_csv(i) for i in glob.glob('./*.csv')]"
   ]
  },
  {
   "cell_type": "markdown",
   "metadata": {},
   "source": [
    "dutchpay.csv   \n",
    "* claim_id : 더치페이 요청 ID  \n",
    "* claim_at : 더치페이 요청 일시  \n",
    "* claum_user_id : 더치페이를 요청한 유저 ID   \n",
    "\n",
    "dutchpay_detail.csv  \n",
    "* claim_detail_id : 더치페이 요청 상세 ID\n",
    "* claim_id : 더치페이 상세 ID\n",
    "* recv_user_id : 더치페이를 요청 받은 유저ID  \n",
    "* claim_amount : 더치페이 요청한 금액  \n",
    "* send_amount : 송금한 금액  \n",
    "* atatus : 현재 상태  \n",
    "\n",
    "user.csv  \n",
    "* user_id : 유저 ID  \n",
    "* gender_cd : 성별 \n",
    "* age : 나이  \n",
    "* foreign_yn : 외국인 여부  \n",
    "* os_type : 휴대폰 OS 유형\n",
    "\n"
   ]
  },
  {
   "cell_type": "markdown",
   "metadata": {},
   "source": [
    "**전체 데이터에서 결측치가 얼마나 되는지 확인**"
   ]
  },
  {
   "cell_type": "code",
   "execution_count": 636,
   "metadata": {},
   "outputs": [
    {
     "data": {
      "text/plain": [
       "claim_detail_id    0.000000\n",
       "claim_id           0.000000\n",
       "recv_user_id       0.000000\n",
       "claim_amount       0.000000\n",
       "send_amount        0.458413\n",
       "status             0.000000\n",
       "dtype: float64"
      ]
     },
     "execution_count": 636,
     "metadata": {},
     "output_type": "execute_result"
    }
   ],
   "source": [
    "dutchpay_detail.isnull().sum() / len(dutchpay_detail)"
   ]
  },
  {
   "cell_type": "markdown",
   "metadata": {},
   "source": [
    "**상태(status) 비율**"
   ]
  },
  {
   "cell_type": "code",
   "execution_count": 637,
   "metadata": {},
   "outputs": [
    {
     "data": {
      "text/plain": [
       "CLAIM    0.458413\n",
       "SEND     0.275812\n",
       "CHECK    0.265775\n",
       "Name: status, dtype: float64"
      ]
     },
     "execution_count": 637,
     "metadata": {},
     "output_type": "execute_result"
    }
   ],
   "source": [
    "dutchpay_detail['status'].value_counts(normalize=True)"
   ]
  },
  {
   "cell_type": "markdown",
   "metadata": {},
   "source": [
    "**더치페이를 가장 많이 요청한 유저**"
   ]
  },
  {
   "cell_type": "code",
   "execution_count": 638,
   "metadata": {},
   "outputs": [
    {
     "data": {
      "text/plain": [
       "9b2956f3779fffc    122\n",
       "6a4c2424aa0dcff    110\n",
       "bbf76f0e6224f6a    107\n",
       "1906a00cebf75ad     82\n",
       "3204a58add68196     81\n",
       "9711a3d185f12c3     76\n",
       "50c5688e2165a20     74\n",
       "bd221d46e1c2037     73\n",
       "1cc6d9adf232745     66\n",
       "8ba04306ede2213     63\n",
       "Name: claim_user_id, dtype: int64"
      ]
     },
     "execution_count": 638,
     "metadata": {},
     "output_type": "execute_result"
    }
   ],
   "source": [
    "dutchpay[\"claim_user_id\"].value_counts().head(10)"
   ]
  },
  {
   "cell_type": "markdown",
   "metadata": {},
   "source": [
    "**더치페이 요청 유저ID에서 SEND 비율**"
   ]
  },
  {
   "cell_type": "code",
   "execution_count": 139,
   "metadata": {},
   "outputs": [
    {
     "data": {
      "text/plain": [
       "0    9b2956f3779fffc\n",
       "1    6a4c2424aa0dcff\n",
       "2    bbf76f0e6224f6a\n",
       "3    1906a00cebf75ad\n",
       "4    3204a58add68196\n",
       "Name: claim_user_id, dtype: object"
      ]
     },
     "execution_count": 139,
     "metadata": {},
     "output_type": "execute_result"
    }
   ],
   "source": [
    "# 더치페이 요청을 가장 많이 한 유저목록\n",
    "claim_user.sort_index()[\"claim_user_id\"].head()"
   ]
  },
  {
   "cell_type": "code",
   "execution_count": 137,
   "metadata": {},
   "outputs": [
    {
     "data": {
      "text/html": [
       "<div>\n",
       "<style scoped>\n",
       "    .dataframe tbody tr th:only-of-type {\n",
       "        vertical-align: middle;\n",
       "    }\n",
       "\n",
       "    .dataframe tbody tr th {\n",
       "        vertical-align: top;\n",
       "    }\n",
       "\n",
       "    .dataframe thead th {\n",
       "        text-align: right;\n",
       "    }\n",
       "</style>\n",
       "<table border=\"1\" class=\"dataframe\">\n",
       "  <thead>\n",
       "    <tr style=\"text-align: right;\">\n",
       "      <th></th>\n",
       "      <th>claim_id</th>\n",
       "      <th>claim_at</th>\n",
       "      <th>claim_user_id</th>\n",
       "    </tr>\n",
       "  </thead>\n",
       "  <tbody>\n",
       "    <tr>\n",
       "      <th>52752</th>\n",
       "      <td>4689883</td>\n",
       "      <td>2020-02-29 18:06:39</td>\n",
       "      <td>9b2956f3779fffc</td>\n",
       "    </tr>\n",
       "    <tr>\n",
       "      <th>52753</th>\n",
       "      <td>4678551</td>\n",
       "      <td>2020-02-29 16:12:57</td>\n",
       "      <td>9b2956f3779fffc</td>\n",
       "    </tr>\n",
       "    <tr>\n",
       "      <th>52754</th>\n",
       "      <td>4678541</td>\n",
       "      <td>2020-02-29 16:12:28</td>\n",
       "      <td>9b2956f3779fffc</td>\n",
       "    </tr>\n",
       "    <tr>\n",
       "      <th>52755</th>\n",
       "      <td>4672275</td>\n",
       "      <td>2020-02-29 09:16:14</td>\n",
       "      <td>9b2956f3779fffc</td>\n",
       "    </tr>\n",
       "    <tr>\n",
       "      <th>52756</th>\n",
       "      <td>4667650</td>\n",
       "      <td>2020-02-28 20:02:14</td>\n",
       "      <td>9b2956f3779fffc</td>\n",
       "    </tr>\n",
       "  </tbody>\n",
       "</table>\n",
       "</div>"
      ],
      "text/plain": [
       "       claim_id             claim_at    claim_user_id\n",
       "52752   4689883  2020-02-29 18:06:39  9b2956f3779fffc\n",
       "52753   4678551  2020-02-29 16:12:57  9b2956f3779fffc\n",
       "52754   4678541  2020-02-29 16:12:28  9b2956f3779fffc\n",
       "52755   4672275  2020-02-29 09:16:14  9b2956f3779fffc\n",
       "52756   4667650  2020-02-28 20:02:14  9b2956f3779fffc"
      ]
     },
     "execution_count": 137,
     "metadata": {},
     "output_type": "execute_result"
    }
   ],
   "source": [
    "dutchpay.loc[dutchpay[\"claim_user_id\"] == claim_user.sort_index()[\"claim_user_id\"][0]].head()"
   ]
  },
  {
   "cell_type": "code",
   "execution_count": 355,
   "metadata": {
    "scrolled": true
   },
   "outputs": [],
   "source": [
    "# 9b2956f3779fffc의 claim_id 를 뽑아서 리스트에 담음.\n",
    "claim_id_first = dutchpay.loc[dutchpay[\"claim_user_id\"] == claim_user.sort_index()[\"claim_user_id\"][0]][\"claim_id\"].tolist()"
   ]
  },
  {
   "cell_type": "code",
   "execution_count": 358,
   "metadata": {},
   "outputs": [
    {
     "name": "stdout",
     "output_type": "stream",
     "text": [
      "SEND     0.569288\n",
      "CHECK    0.247191\n",
      "CLAIM    0.183521\n",
      "Name: 0, dtype: float64\n"
     ]
    }
   ],
   "source": [
    "# 더치페이 요청 중 어떤 상태가 많은 비율을 차지 하는가 ? \n",
    "user_status = []\n",
    "for i in claim_id_first:\n",
    "    user_status.extend(dutchpay_detail.loc[dutchpay_detail[\"claim_id\"] == i][\"status\"].tolist())\n",
    "print(pd.DataFrame(user_status)[0].value_counts(normalize=True))"
   ]
  },
  {
   "cell_type": "markdown",
   "metadata": {},
   "source": [
    "**더치페이 요청을 가장 많이 안하는 유저**"
   ]
  },
  {
   "cell_type": "code",
   "execution_count": 179,
   "metadata": {},
   "outputs": [],
   "source": [
    "claim_id_last = dutchpay.loc[dutchpay[\"claim_user_id\"] == claim_user.sort_index()[\"claim_user_id\"][53557]][\"claim_id\"].tolist()"
   ]
  },
  {
   "cell_type": "code",
   "execution_count": 180,
   "metadata": {},
   "outputs": [
    {
     "name": "stdout",
     "output_type": "stream",
     "text": [
      "CHECK    0.5\n",
      "CLAIM    0.5\n",
      "Name: 0, dtype: float64\n"
     ]
    }
   ],
   "source": [
    "# 더치페이 요청 중 어떤 상태가 많은 비율을 차지 하는가 ? \n",
    "user_status = []\n",
    "for i in claim_id_last:\n",
    "    user_status.extend(dutchpay_detail.loc[dutchpay_detail[\"claim_id\"] == i][\"status\"].tolist())\n",
    "print(pd.DataFrame(user_status)[0].value_counts(normalize=True))"
   ]
  },
  {
   "cell_type": "code",
   "execution_count": 214,
   "metadata": {
    "scrolled": true
   },
   "outputs": [],
   "source": [
    "val = []\n",
    "for i in range(len(claim_user[\"claim_user_id\"])):\n",
    "    try : \n",
    "        claim_id_last = dutchpay.loc[dutchpay[\"claim_user_id\"] == claim_user.sort_index()[\"claim_user_id\"][i]][\"claim_id\"].tolist()\n",
    "        user_status = []\n",
    "        for j in claim_id_last:\n",
    "            user_status.extend(dutchpay_detail.loc[dutchpay_detail[\"claim_id\"] == j][\"status\"].tolist())\n",
    "        val.append(pd.DataFrame(user_status)[0].value_counts(normalize=True)[\"SEND\"])\n",
    "    except KeyError as e:\n",
    "        val.append(-1)"
   ]
  },
  {
   "cell_type": "code",
   "execution_count": null,
   "metadata": {},
   "outputs": [],
   "source": [
    "claim_user_status = pd.DataFrame(claim_user[\"claim_user_id\"])\n",
    "claim_user_status[\"SEND\"] = val"
   ]
  },
  {
   "cell_type": "code",
   "execution_count": 619,
   "metadata": {},
   "outputs": [
    {
     "data": {
      "text/plain": [
       "[<matplotlib.lines.Line2D at 0x21a0324b278>]"
      ]
     },
     "execution_count": 619,
     "metadata": {},
     "output_type": "execute_result"
    },
    {
     "data": {
      "image/png": "[encoded data removed]",
      "text/plain": [
       "<Figure size 432x288 with 1 Axes>"
      ]
     },
     "metadata": {
      "needs_background": "light"
     },
     "output_type": "display_data"
    }
   ],
   "source": [
    "# px.line(claim_user_status.sort_values(by = \"SEND\", ascending=False)[\"SEND\"].tolist())\n",
    "plt.plot(claim_user_status.sort_values(by = \"SEND\", ascending=False)[\"SEND\"].tolist())"
   ]
  },
  {
   "cell_type": "markdown",
   "metadata": {},
   "source": [
    "**SEND가 높은 순으로 정렬**"
   ]
  },
  {
   "cell_type": "code",
   "execution_count": 500,
   "metadata": {
    "scrolled": true
   },
   "outputs": [
    {
     "data": {
      "text/html": [
       "<div>\n",
       "<style scoped>\n",
       "    .dataframe tbody tr th:only-of-type {\n",
       "        vertical-align: middle;\n",
       "    }\n",
       "\n",
       "    .dataframe tbody tr th {\n",
       "        vertical-align: top;\n",
       "    }\n",
       "\n",
       "    .dataframe thead th {\n",
       "        text-align: right;\n",
       "    }\n",
       "</style>\n",
       "<table border=\"1\" class=\"dataframe\">\n",
       "  <thead>\n",
       "    <tr style=\"text-align: right;\">\n",
       "      <th></th>\n",
       "      <th>claim_user_id</th>\n",
       "      <th>SEND</th>\n",
       "    </tr>\n",
       "  </thead>\n",
       "  <tbody>\n",
       "    <tr>\n",
       "      <th>0</th>\n",
       "      <td>239cdd49b6323a1</td>\n",
       "      <td>1.0</td>\n",
       "    </tr>\n",
       "    <tr>\n",
       "      <th>1</th>\n",
       "      <td>7a2ad38c74a7419</td>\n",
       "      <td>1.0</td>\n",
       "    </tr>\n",
       "    <tr>\n",
       "      <th>2</th>\n",
       "      <td>0d8e17d8a804cd8</td>\n",
       "      <td>1.0</td>\n",
       "    </tr>\n",
       "    <tr>\n",
       "      <th>3</th>\n",
       "      <td>572f565f786a73c</td>\n",
       "      <td>1.0</td>\n",
       "    </tr>\n",
       "    <tr>\n",
       "      <th>4</th>\n",
       "      <td>2122b4d35d9d4a3</td>\n",
       "      <td>1.0</td>\n",
       "    </tr>\n",
       "  </tbody>\n",
       "</table>\n",
       "</div>"
      ],
      "text/plain": [
       "     claim_user_id  SEND\n",
       "0  239cdd49b6323a1   1.0\n",
       "1  7a2ad38c74a7419   1.0\n",
       "2  0d8e17d8a804cd8   1.0\n",
       "3  572f565f786a73c   1.0\n",
       "4  2122b4d35d9d4a3   1.0"
      ]
     },
     "execution_count": 500,
     "metadata": {},
     "output_type": "execute_result"
    }
   ],
   "source": [
    "send_ = claim_user_status.sort_values(by = \"SEND\", ascending=False).reset_index(drop=True)\n",
    "send_.head()"
   ]
  },
  {
   "cell_type": "code",
   "execution_count": 501,
   "metadata": {},
   "outputs": [
    {
     "data": {
      "text/html": [
       "<div>\n",
       "<style scoped>\n",
       "    .dataframe tbody tr th:only-of-type {\n",
       "        vertical-align: middle;\n",
       "    }\n",
       "\n",
       "    .dataframe tbody tr th {\n",
       "        vertical-align: top;\n",
       "    }\n",
       "\n",
       "    .dataframe thead th {\n",
       "        text-align: right;\n",
       "    }\n",
       "</style>\n",
       "<table border=\"1\" class=\"dataframe\">\n",
       "  <thead>\n",
       "    <tr style=\"text-align: right;\">\n",
       "      <th></th>\n",
       "      <th>claim_user_id</th>\n",
       "      <th>SEND</th>\n",
       "    </tr>\n",
       "  </thead>\n",
       "  <tbody>\n",
       "    <tr>\n",
       "      <th>5310</th>\n",
       "      <td>9b2956f3779fffc</td>\n",
       "      <td>0.569288</td>\n",
       "    </tr>\n",
       "  </tbody>\n",
       "</table>\n",
       "</div>"
      ],
      "text/plain": [
       "        claim_user_id      SEND\n",
       "5310  9b2956f3779fffc  0.569288"
      ]
     },
     "execution_count": 501,
     "metadata": {},
     "output_type": "execute_result"
    }
   ],
   "source": [
    "send_.loc[send_[\"claim_user_id\"] == \"9b2956f3779fffc\"]"
   ]
  },
  {
   "cell_type": "markdown",
   "metadata": {},
   "source": [
    "**그렇다면 ...?** \n",
    "- 더치페이 요청한 금액이 클수록 응답하지 않는건가?"
   ]
  },
  {
   "cell_type": "code",
   "execution_count": 489,
   "metadata": {},
   "outputs": [
    {
     "data": {
      "text/plain": [
       "<matplotlib.legend.Legend at 0x21a033065c0>"
      ]
     },
     "execution_count": 489,
     "metadata": {},
     "output_type": "execute_result"
    },
    {
     "data": {
      "image/png": "[encoded data removed]",
      "text/plain": [
       "<Figure size 432x288 with 1 Axes>"
      ]
     },
     "metadata": {
      "needs_background": "light"
     },
     "output_type": "display_data"
    }
   ],
   "source": [
    "plt.hist(dutchpay_detail[\"claim_amount\"], color = 'green', alpha = 0.5,  label = 'claim_amount') # 요청한 금액\n",
    "plt.hist(dutchpay_detail[\"send_amount\"],  alpha = 0.5, label = 'send_amount') # 송금한 금액\n",
    "plt.legend(fontsize = 10)"
   ]
  },
  {
   "cell_type": "code",
   "execution_count": 506,
   "metadata": {
    "scrolled": true
   },
   "outputs": [],
   "source": [
    "status_factorize, _ = dutchpay_detail.loc[dutchpay_detail['claim_amount']>3000000][\"status\"].factorize()"
   ]
  },
  {
   "cell_type": "code",
   "execution_count": 507,
   "metadata": {},
   "outputs": [
    {
     "data": {
      "text/plain": [
       "[<matplotlib.lines.Line2D at 0x21a737d7eb8>]"
      ]
     },
     "execution_count": 507,
     "metadata": {},
     "output_type": "execute_result"
    },
    {
     "data": {
      "image/png": "[encoded data removed]",
      "text/plain": [
       "<Figure size 432x288 with 1 Axes>"
      ]
     },
     "metadata": {
      "needs_background": "light"
     },
     "output_type": "display_data"
    }
   ],
   "source": [
    "plt.plot(status_factorize)"
   ]
  },
  {
   "cell_type": "code",
   "execution_count": 510,
   "metadata": {},
   "outputs": [],
   "source": [
    "status_factorize2, _ = dutchpay_detail.loc[dutchpay_detail['claim_amount']<3000000][\"status\"].factorize()"
   ]
  },
  {
   "cell_type": "code",
   "execution_count": 514,
   "metadata": {},
   "outputs": [
    {
     "data": {
      "text/plain": [
       "[<matplotlib.lines.Line2D at 0x21a022e6748>]"
      ]
     },
     "execution_count": 514,
     "metadata": {},
     "output_type": "execute_result"
    },
    {
     "data": {
      "image/png": "[encoded data removed]",
      "text/plain": [
       "<Figure size 432x288 with 1 Axes>"
      ]
     },
     "metadata": {
      "needs_background": "light"
     },
     "output_type": "display_data"
    }
   ],
   "source": [
    "plt.plot(status_factorize2[:len(status_factorize)])"
   ]
  },
  {
   "cell_type": "markdown",
   "metadata": {},
   "source": [
    "**나이에 따른 상태**"
   ]
  },
  {
   "cell_type": "code",
   "execution_count": 517,
   "metadata": {},
   "outputs": [
    {
     "data": {
      "text/plain": [
       "(array([1.3095e+04, 5.4446e+04, 3.4726e+04, 1.5233e+04, 5.3670e+03,\n",
       "        9.0000e+02, 1.2800e+02, 1.8000e+01, 9.0000e+00, 2.0000e+00]),\n",
       " array([14. , 21.5, 29. , 36.5, 44. , 51.5, 59. , 66.5, 74. , 81.5, 89. ]),\n",
       " <a list of 10 Patch objects>)"
      ]
     },
     "execution_count": 517,
     "metadata": {},
     "output_type": "execute_result"
    },
    {
     "data": {
      "image/png": "[encoded data removed]",
      "text/plain": [
       "<Figure size 432x288 with 1 Axes>"
      ]
     },
     "metadata": {
      "needs_background": "light"
     },
     "output_type": "display_data"
    }
   ],
   "source": [
    "plt.hist(user[\"age\"])"
   ]
  },
  {
   "cell_type": "code",
   "execution_count": 532,
   "metadata": {
    "scrolled": true
   },
   "outputs": [
    {
     "data": {
      "text/html": [
       "<div>\n",
       "<style scoped>\n",
       "    .dataframe tbody tr th:only-of-type {\n",
       "        vertical-align: middle;\n",
       "    }\n",
       "\n",
       "    .dataframe tbody tr th {\n",
       "        vertical-align: top;\n",
       "    }\n",
       "\n",
       "    .dataframe thead th {\n",
       "        text-align: right;\n",
       "    }\n",
       "</style>\n",
       "<table border=\"1\" class=\"dataframe\">\n",
       "  <thead>\n",
       "    <tr style=\"text-align: right;\">\n",
       "      <th></th>\n",
       "      <th>user_id</th>\n",
       "      <th>gender_cd</th>\n",
       "      <th>age</th>\n",
       "      <th>foreigner_yn</th>\n",
       "      <th>os_type</th>\n",
       "    </tr>\n",
       "  </thead>\n",
       "  <tbody>\n",
       "    <tr>\n",
       "      <th>0</th>\n",
       "      <td>4f2bc35ea5f907c</td>\n",
       "      <td>1</td>\n",
       "      <td>19</td>\n",
       "      <td>N</td>\n",
       "      <td>A</td>\n",
       "    </tr>\n",
       "    <tr>\n",
       "      <th>1</th>\n",
       "      <td>e055d3995252700</td>\n",
       "      <td>1</td>\n",
       "      <td>17</td>\n",
       "      <td>N</td>\n",
       "      <td>A</td>\n",
       "    </tr>\n",
       "    <tr>\n",
       "      <th>2</th>\n",
       "      <td>2478370d5400e77</td>\n",
       "      <td>1</td>\n",
       "      <td>16</td>\n",
       "      <td>N</td>\n",
       "      <td>B</td>\n",
       "    </tr>\n",
       "    <tr>\n",
       "      <th>3</th>\n",
       "      <td>d36f461671221d3</td>\n",
       "      <td>2</td>\n",
       "      <td>17</td>\n",
       "      <td>N</td>\n",
       "      <td>A</td>\n",
       "    </tr>\n",
       "    <tr>\n",
       "      <th>4</th>\n",
       "      <td>0225fca3e6a5dab</td>\n",
       "      <td>1</td>\n",
       "      <td>17</td>\n",
       "      <td>N</td>\n",
       "      <td>B</td>\n",
       "    </tr>\n",
       "  </tbody>\n",
       "</table>\n",
       "</div>"
      ],
      "text/plain": [
       "           user_id  gender_cd  age foreigner_yn os_type\n",
       "0  4f2bc35ea5f907c          1   19            N       A\n",
       "1  e055d3995252700          1   17            N       A\n",
       "2  2478370d5400e77          1   16            N       B\n",
       "3  d36f461671221d3          2   17            N       A\n",
       "4  0225fca3e6a5dab          1   17            N       B"
      ]
     },
     "execution_count": 532,
     "metadata": {},
     "output_type": "execute_result"
    }
   ],
   "source": [
    "age_20_user = user.loc[user['age']<20].reset_index(drop=True)\n",
    "age_20_user.head()"
   ]
  },
  {
   "cell_type": "code",
   "execution_count": 544,
   "metadata": {},
   "outputs": [],
   "source": [
    "age_20_satus =[]\n",
    "for i in range(len(age_20_user[\"user_id\"])):\n",
    "    age_20_satus.extend(dutchpay_detail.loc[dutchpay_detail[\"recv_user_id\"] == age_20_user[\"user_id\"][i]][\"status\"])    "
   ]
  },
  {
   "cell_type": "code",
   "execution_count": 555,
   "metadata": {},
   "outputs": [
    {
     "data": {
      "text/plain": [
       "CHECK    0.700234\n",
       "SEND     0.196136\n",
       "CLAIM    0.103630\n",
       "Name: 0, dtype: float64"
      ]
     },
     "execution_count": 555,
     "metadata": {},
     "output_type": "execute_result"
    }
   ],
   "source": [
    "pd.DataFrame(age_20_satus)[0].value_counts(normalize=True)"
   ]
  },
  {
   "cell_type": "code",
   "execution_count": 599,
   "metadata": {},
   "outputs": [],
   "source": [
    "age_30_user = user.loc[(user['age']>20)&(user['age']<=30)].reset_index(drop=True)"
   ]
  },
  {
   "cell_type": "code",
   "execution_count": 612,
   "metadata": {},
   "outputs": [],
   "source": [
    "age_30_satus =[]\n",
    "for i in range(len(age_30_user[\"user_id\"])):\n",
    "    age_30_satus.extend(dutchpay_detail.loc[dutchpay_detail[\"recv_user_id\"] == age_30_user[\"user_id\"][i]][\"status\"])    "
   ]
  },
  {
   "cell_type": "code",
   "execution_count": 613,
   "metadata": {},
   "outputs": [
    {
     "data": {
      "text/plain": [
       "CHECK    0.454318\n",
       "SEND     0.413953\n",
       "CLAIM    0.131730\n",
       "Name: 0, dtype: float64"
      ]
     },
     "execution_count": 613,
     "metadata": {},
     "output_type": "execute_result"
    }
   ],
   "source": [
    "pd.DataFrame(age_30_satus)[0].value_counts(normalize=True)"
   ]
  },
  {
   "cell_type": "code",
   "execution_count": 614,
   "metadata": {},
   "outputs": [],
   "source": [
    "age_40_user = user.loc[(user['age']>30)&(user['age']<=40)].reset_index(drop=True)"
   ]
  },
  {
   "cell_type": "code",
   "execution_count": 616,
   "metadata": {},
   "outputs": [],
   "source": [
    "age_40_satus =[]\n",
    "for i in range(len(age_40_user[\"user_id\"])):\n",
    "    age_40_satus.extend(dutchpay_detail.loc[dutchpay_detail[\"recv_user_id\"] == age_40_user[\"user_id\"][i]][\"status\"])    "
   ]
  },
  {
   "cell_type": "code",
   "execution_count": 618,
   "metadata": {},
   "outputs": [
    {
     "data": {
      "text/plain": [
       "SEND     0.499881\n",
       "CHECK    0.415969\n",
       "CLAIM    0.084150\n",
       "Name: 0, dtype: float64"
      ]
     },
     "execution_count": 618,
     "metadata": {},
     "output_type": "execute_result"
    }
   ],
   "source": [
    "pd.DataFrame(age_40_satus)[0].value_counts(normalize=True)"
   ]
  }
 ],
 "metadata": {
  "kernelspec": {
   "display_name": "Python 3",
   "language": "python",
   "name": "python3"
  },
  "language_info": {
   "codemirror_mode": {
    "name": "ipython",
    "version": 3
   },
   "file_extension": ".py",
   "mimetype": "text/x-python",
   "name": "python",
   "nbconvert_exporter": "python",
   "pygments_lexer": "ipython3",
   "version": "3.7.3"
  }
 },
 "nbformat": 4,
 "nbformat_minor": 2
}
